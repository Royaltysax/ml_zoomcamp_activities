{
 "cells": [
  {
   "cell_type": "code",
   "execution_count": 1,
   "id": "82f3081e-12da-4f05-a740-3b8f3b93f090",
   "metadata": {},
   "outputs": [],
   "source": [
    "import numpy as np\n",
    "import pandas as pd\n",
    "import seaborn as sns\n",
    "import matplotlib.pyplot as plt\n",
    "%matplotlib inline"
   ]
  },
  {
   "cell_type": "markdown",
   "id": "4a416c21-90bb-429d-a523-be85edd85c6d",
   "metadata": {},
   "source": [
    "### EDA"
   ]
  },
  {
   "cell_type": "code",
   "execution_count": 2,
   "id": "c06f8101-04f2-4502-b022-0d20ee191f5a",
   "metadata": {},
   "outputs": [
    {
     "data": {
      "text/html": [
       "<div>\n",
       "<style scoped>\n",
       "    .dataframe tbody tr th:only-of-type {\n",
       "        vertical-align: middle;\n",
       "    }\n",
       "\n",
       "    .dataframe tbody tr th {\n",
       "        vertical-align: top;\n",
       "    }\n",
       "\n",
       "    .dataframe thead th {\n",
       "        text-align: right;\n",
       "    }\n",
       "</style>\n",
       "<table border=\"1\" class=\"dataframe\">\n",
       "  <thead>\n",
       "    <tr style=\"text-align: right;\">\n",
       "      <th></th>\n",
       "      <th>longitude</th>\n",
       "      <th>latitude</th>\n",
       "      <th>housing_median_age</th>\n",
       "      <th>total_rooms</th>\n",
       "      <th>total_bedrooms</th>\n",
       "      <th>population</th>\n",
       "      <th>households</th>\n",
       "      <th>median_income</th>\n",
       "      <th>median_house_value</th>\n",
       "      <th>ocean_proximity</th>\n",
       "    </tr>\n",
       "  </thead>\n",
       "  <tbody>\n",
       "    <tr>\n",
       "      <th>0</th>\n",
       "      <td>-122.23</td>\n",
       "      <td>37.88</td>\n",
       "      <td>41.0</td>\n",
       "      <td>880.0</td>\n",
       "      <td>129.0</td>\n",
       "      <td>322.0</td>\n",
       "      <td>126.0</td>\n",
       "      <td>8.3252</td>\n",
       "      <td>452600.0</td>\n",
       "      <td>NEAR BAY</td>\n",
       "    </tr>\n",
       "    <tr>\n",
       "      <th>1</th>\n",
       "      <td>-122.22</td>\n",
       "      <td>37.86</td>\n",
       "      <td>21.0</td>\n",
       "      <td>7099.0</td>\n",
       "      <td>1106.0</td>\n",
       "      <td>2401.0</td>\n",
       "      <td>1138.0</td>\n",
       "      <td>8.3014</td>\n",
       "      <td>358500.0</td>\n",
       "      <td>NEAR BAY</td>\n",
       "    </tr>\n",
       "    <tr>\n",
       "      <th>2</th>\n",
       "      <td>-122.24</td>\n",
       "      <td>37.85</td>\n",
       "      <td>52.0</td>\n",
       "      <td>1467.0</td>\n",
       "      <td>190.0</td>\n",
       "      <td>496.0</td>\n",
       "      <td>177.0</td>\n",
       "      <td>7.2574</td>\n",
       "      <td>352100.0</td>\n",
       "      <td>NEAR BAY</td>\n",
       "    </tr>\n",
       "    <tr>\n",
       "      <th>3</th>\n",
       "      <td>-122.25</td>\n",
       "      <td>37.85</td>\n",
       "      <td>52.0</td>\n",
       "      <td>1274.0</td>\n",
       "      <td>235.0</td>\n",
       "      <td>558.0</td>\n",
       "      <td>219.0</td>\n",
       "      <td>5.6431</td>\n",
       "      <td>341300.0</td>\n",
       "      <td>NEAR BAY</td>\n",
       "    </tr>\n",
       "    <tr>\n",
       "      <th>4</th>\n",
       "      <td>-122.25</td>\n",
       "      <td>37.85</td>\n",
       "      <td>52.0</td>\n",
       "      <td>1627.0</td>\n",
       "      <td>280.0</td>\n",
       "      <td>565.0</td>\n",
       "      <td>259.0</td>\n",
       "      <td>3.8462</td>\n",
       "      <td>342200.0</td>\n",
       "      <td>NEAR BAY</td>\n",
       "    </tr>\n",
       "  </tbody>\n",
       "</table>\n",
       "</div>"
      ],
      "text/plain": [
       "   longitude  latitude  housing_median_age  total_rooms  total_bedrooms  \\\n",
       "0    -122.23     37.88                41.0        880.0           129.0   \n",
       "1    -122.22     37.86                21.0       7099.0          1106.0   \n",
       "2    -122.24     37.85                52.0       1467.0           190.0   \n",
       "3    -122.25     37.85                52.0       1274.0           235.0   \n",
       "4    -122.25     37.85                52.0       1627.0           280.0   \n",
       "\n",
       "   population  households  median_income  median_house_value ocean_proximity  \n",
       "0       322.0       126.0         8.3252            452600.0        NEAR BAY  \n",
       "1      2401.0      1138.0         8.3014            358500.0        NEAR BAY  \n",
       "2       496.0       177.0         7.2574            352100.0        NEAR BAY  \n",
       "3       558.0       219.0         5.6431            341300.0        NEAR BAY  \n",
       "4       565.0       259.0         3.8462            342200.0        NEAR BAY  "
      ]
     },
     "execution_count": 2,
     "metadata": {},
     "output_type": "execute_result"
    }
   ],
   "source": [
    "housing = pd.read_csv('housing.csv')\n",
    "housing.head()"
   ]
  },
  {
   "cell_type": "code",
   "execution_count": 3,
   "id": "343325fc-7ce2-41d8-85d7-7ee3789028d0",
   "metadata": {},
   "outputs": [
    {
     "data": {
      "text/plain": [
       "<AxesSubplot:xlabel='median_house_value', ylabel='Count'>"
      ]
     },
     "execution_count": 3,
     "metadata": {},
     "output_type": "execute_result"
    },
    {
     "data": {
      "image/png": "[encoded data removed]",
      "text/plain": [
       "<Figure size 432x288 with 1 Axes>"
      ]
     },
     "metadata": {
      "needs_background": "light"
     },
     "output_type": "display_data"
    }
   ],
   "source": [
    "sns.histplot(housing['median_house_value'])\n",
    "\n",
    "# The 'median_house_value' has a long tail"
   ]
  },
  {
   "cell_type": "code",
   "execution_count": 4,
   "id": "47936c49-ca6c-4010-8d45-182e5fd0263b",
   "metadata": {},
   "outputs": [],
   "source": [
    "features = ['latitude',\n",
    "            'longitude',\n",
    "            'housing_median_age',\n",
    "            'total_rooms',\n",
    "            'total_bedrooms',\n",
    "            'population',\n",
    "            'households',\n",
    "            'median_income',\n",
    "            'median_house_value']"
   ]
  },
  {
   "cell_type": "code",
   "execution_count": 5,
   "id": "c7eed1dd-fba3-47f3-b1f6-37adf8525a4a",
   "metadata": {},
   "outputs": [
    {
     "data": {
      "text/plain": [
       "20640"
      ]
     },
     "execution_count": 5,
     "metadata": {},
     "output_type": "execute_result"
    }
   ],
   "source": [
    "housing_features = housing[features]\n",
    "new_housing_features = housing_features.copy()\n",
    "housing_features_1 = housing_features.copy()\n",
    "len(housing_features_1)"
   ]
  },
  {
   "cell_type": "markdown",
   "id": "7d34460a-8257-4a37-b065-b1b60b18b33d",
   "metadata": {},
   "source": [
    "### Question 1"
   ]
  },
  {
   "cell_type": "code",
   "execution_count": 6,
   "id": "26f220c1-f2c3-4506-b973-6b0d2b4193e8",
   "metadata": {},
   "outputs": [
    {
     "data": {
      "text/plain": [
       "latitude                0\n",
       "longitude               0\n",
       "housing_median_age      0\n",
       "total_rooms             0\n",
       "total_bedrooms        207\n",
       "population              0\n",
       "households              0\n",
       "median_income           0\n",
       "median_house_value      0\n",
       "dtype: int64"
      ]
     },
     "execution_count": 6,
     "metadata": {},
     "output_type": "execute_result"
    }
   ],
   "source": [
    "housing_features.isnull().sum()\n",
    "\n",
    "# The 'total_bedroom' has missing values; 207 missing values in total"
   ]
  },
  {
   "cell_type": "markdown",
   "id": "49581542-5c70-47c5-8203-c77bbb5be4b0",
   "metadata": {},
   "source": [
    "### Question 2"
   ]
  },
  {
   "cell_type": "code",
   "execution_count": 7,
   "id": "d3ca77da-b499-4a47-92d3-d776d213240c",
   "metadata": {},
   "outputs": [
    {
     "data": {
      "text/plain": [
       "1166.0"
      ]
     },
     "execution_count": 7,
     "metadata": {},
     "output_type": "execute_result"
    }
   ],
   "source": [
    "housing_features['population'].median()\n",
    "\n",
    "# The median (50th percentile) of the 'population' column is 1166.0"
   ]
  },
  {
   "cell_type": "markdown",
   "id": "16755d56-36c4-4e78-a69a-835f959fcd42",
   "metadata": {},
   "source": [
    "### Splitting the data"
   ]
  },
  {
   "cell_type": "code",
   "execution_count": 8,
   "id": "f13bc0d8-c80a-476c-a4d9-1e155f644ade",
   "metadata": {},
   "outputs": [],
   "source": [
    "# Setting the random seed\n",
    "\n",
    "np.random.seed(42)"
   ]
  },
  {
   "cell_type": "code",
   "execution_count": 9,
   "id": "86ec4597-dd09-479d-af92-7c28a75352ae",
   "metadata": {},
   "outputs": [],
   "source": [
    "# Splitting the dataset into train, test, split\n",
    "\n",
    "length = len(housing_features)\n",
    "\n",
    "idx = np.arange(length)\n",
    "\n",
    "np.random.shuffle(idx)\n",
    "\n",
    "\n",
    "val = int(length * 0.2)\n",
    "test = int(length * 0.2)\n",
    "train = length - val - test"
   ]
  },
  {
   "cell_type": "code",
   "execution_count": 10,
   "id": "2e5e2fd8-522d-42c5-9573-b6f57d2f7fb3",
   "metadata": {},
   "outputs": [],
   "source": [
    "# Shuffling the dataset\n",
    "\n",
    "housing_train = housing_features.iloc[idx[:train]]\n",
    "housing_val = housing_features.iloc[idx[train:train+val]]\n",
    "housing_test = housing_features.iloc[idx[train+val:]]"
   ]
  },
  {
   "cell_type": "code",
   "execution_count": 11,
   "id": "80f96a26-a3e3-46b2-b1d1-b3a8cf3b6301",
   "metadata": {},
   "outputs": [],
   "source": [
    "# Separating the target variable from the dataset\n",
    "\n",
    "y_train = np.log1p(housing_train['median_house_value'].values)\n",
    "y_val = np.log1p(housing_val['median_house_value'].values)\n",
    "y_test = np.log1p(housing_test['median_house_value'].values)\n",
    "\n",
    "\n",
    "# Removing the target variable from the dataset\n",
    "\n",
    "del housing_train['median_house_value']\n",
    "del housing_val['median_house_value']\n",
    "del housing_test['median_house_value']"
   ]
  },
  {
   "cell_type": "markdown",
   "id": "9679c1d8-9fc6-47eb-bace-70dcea573119",
   "metadata": {},
   "source": [
    "### Question 3"
   ]
  },
  {
   "cell_type": "code",
   "execution_count": 12,
   "id": "53d2b94d-7d4e-43e9-81b1-a76409a1e005",
   "metadata": {},
   "outputs": [],
   "source": [
    "# Method to train the linear regression model\n",
    "\n",
    "def train_linear_regression(X, y):\n",
    "    ones = np.ones(X.shape[0])\n",
    "    X = np.column_stack([ones, X])\n",
    "    \n",
    "    XTX = X.T.dot(X)\n",
    "    XTX_inv = np.linalg.inv(XTX)\n",
    "    w_full = XTX_inv.dot(X.T).dot(y)\n",
    "    \n",
    "    return w_full[0], w_full[1:]"
   ]
  },
  {
   "cell_type": "code",
   "execution_count": 13,
   "id": "3e190d18-ad02-4d23-b704-282a51bf6501",
   "metadata": {},
   "outputs": [],
   "source": [
    "# Method to train the linear regression model with regularization\n",
    "\n",
    "def train_linear_regression_reg(X, y, r):\n",
    "    ones = np.ones(X.shape[0])\n",
    "    X = np.column_stack([ones, X])\n",
    "    \n",
    "    XTX = X.T.dot(X)\n",
    "    XTX = XTX + r * np.eye(XTX.shape[0])\n",
    "    \n",
    "    XTX_inv = np.linalg.inv(XTX)\n",
    "    w_full = XTX_inv.dot(X.T).dot(y)\n",
    "    \n",
    "    return w_full[0], w_full[1:]"
   ]
  },
  {
   "cell_type": "code",
   "execution_count": 14,
   "id": "cfa70740-e222-4901-8df5-1d0104133b40",
   "metadata": {},
   "outputs": [],
   "source": [
    "# Method for calculating the rmse\n",
    "\n",
    "def rmse(y, y_pred):\n",
    "    error = y_pred - y\n",
    "    se = error ** 2\n",
    "    mse = se.mean()\n",
    "    \n",
    "    return np.sqrt(mse)"
   ]
  },
  {
   "cell_type": "markdown",
   "id": "7bbcd0a9-8a41-41e8-b83a-2df140568f8a",
   "metadata": {},
   "source": [
    "#### Using the option of filling missing values with 0"
   ]
  },
  {
   "cell_type": "code",
   "execution_count": 15,
   "id": "2f17e09e-3046-42ad-88d4-6cdc6258def6",
   "metadata": {},
   "outputs": [],
   "source": [
    "# Making a copy of the original splitted data\n",
    "\n",
    "housing_train_zero = housing_train.copy()\n",
    "housing_val_zero = housing_val.copy()\n",
    "housing_test_zero = housing_test.copy()"
   ]
  },
  {
   "cell_type": "code",
   "execution_count": 16,
   "id": "968da425-5495-4833-8be0-9806e3dc417d",
   "metadata": {},
   "outputs": [],
   "source": [
    "# Filling the missing value in 'total_bedroom' column with zero\n",
    "\n",
    "housing_train_zero = housing_train_zero.fillna(0).values\n",
    "housing_val_zero = housing_val_zero.fillna(0).values\n",
    "housing_test_zero = housing_test_zero.fillna(0).values"
   ]
  },
  {
   "cell_type": "code",
   "execution_count": 17,
   "id": "d5206563-20b1-42bf-bed3-7083dcc854a8",
   "metadata": {},
   "outputs": [],
   "source": [
    "w0, w = train_linear_regression(housing_train_zero, y_train)"
   ]
  },
  {
   "cell_type": "code",
   "execution_count": 18,
   "id": "cd1da418-379a-46ce-999d-232d9917671d",
   "metadata": {},
   "outputs": [],
   "source": [
    "# Using the validation dataset to evaluate the model\n",
    "\n",
    "y_preds_zero = w0 + housing_val_zero.dot(w)"
   ]
  },
  {
   "cell_type": "code",
   "execution_count": 19,
   "id": "86d07445-d1a3-4015-a400-914701980da3",
   "metadata": {},
   "outputs": [
    {
     "data": {
      "text/plain": [
       "0.33"
      ]
     },
     "execution_count": 19,
     "metadata": {},
     "output_type": "execute_result"
    }
   ],
   "source": [
    "# RMSE for the first option\n",
    "\n",
    "score = rmse(y_val, y_preds_zero)\n",
    "\n",
    "round(score, 2)"
   ]
  },
  {
   "cell_type": "markdown",
   "id": "653e65d4-f262-4311-b14c-2f0035d5acf5",
   "metadata": {},
   "source": [
    "#### Using the option of filling with the mean of the column"
   ]
  },
  {
   "cell_type": "code",
   "execution_count": 20,
   "id": "79eac29d-1adf-47bf-a475-01993cd77da3",
   "metadata": {},
   "outputs": [],
   "source": [
    "# Calculating the mean of the column with missing value\n",
    "\n",
    "mean = round(housing_train['total_bedrooms'].mean(), 1)"
   ]
  },
  {
   "cell_type": "code",
   "execution_count": 21,
   "id": "8a5ebac3-b4b7-4572-a5a3-bb72c175e928",
   "metadata": {},
   "outputs": [],
   "source": [
    "# Making a copy of the original splitted data\n",
    "\n",
    "housing_train_mean = housing_train.copy()\n",
    "housing_val_mean = housing_val.copy()\n",
    "housing_test_mean = housing_test.copy()"
   ]
  },
  {
   "cell_type": "code",
   "execution_count": 22,
   "id": "d2a262f5-3eee-43ea-af20-2dda0d490021",
   "metadata": {},
   "outputs": [],
   "source": [
    "# Filling the missing value in 'total_bedroom' column with the mean\n",
    "\n",
    "housing_train_mean = housing_train_mean.fillna(mean).values\n",
    "housing_val_mean = housing_val_mean.fillna(mean).values\n",
    "housing_test_mean = housing_test_mean.fillna(mean).values"
   ]
  },
  {
   "cell_type": "code",
   "execution_count": 23,
   "id": "3e621474-438b-4dd3-a49b-8f3dabc7b0a5",
   "metadata": {},
   "outputs": [],
   "source": [
    "w0, w = train_linear_regression(housing_train_mean, y_train)"
   ]
  },
  {
   "cell_type": "code",
   "execution_count": 24,
   "id": "ea78fb61-2d08-42f5-af76-c5d67ebaa579",
   "metadata": {},
   "outputs": [],
   "source": [
    "# Using the validation dataset to evaluate the model\n",
    "\n",
    "y_preds_mean = w0 + housing_val_mean.dot(w)"
   ]
  },
  {
   "cell_type": "code",
   "execution_count": 25,
   "id": "815569f9-4bad-4cfd-aa9f-801a5119a6cb",
   "metadata": {},
   "outputs": [
    {
     "data": {
      "text/plain": [
       "0.33"
      ]
     },
     "execution_count": 25,
     "metadata": {},
     "output_type": "execute_result"
    }
   ],
   "source": [
    "# RMSE for the second option\n",
    "\n",
    "score = rmse(y_val, y_preds_mean)\n",
    "\n",
    "round(score, 2)"
   ]
  },
  {
   "cell_type": "markdown",
   "id": "84e52840-deef-4560-b0cd-612cb7a7f4b3",
   "metadata": {},
   "source": [
    "###### Comparing the RMSE value of both option, they are both equal"
   ]
  },
  {
   "cell_type": "markdown",
   "id": "63d6941a-beac-436d-814f-29b277840e00",
   "metadata": {},
   "source": [
    "### Question 4"
   ]
  },
  {
   "cell_type": "code",
   "execution_count": 26,
   "id": "1297331e-072c-43a4-ab9b-c4c62bfdd402",
   "metadata": {},
   "outputs": [],
   "source": [
    "r_value = [0, 0.000001, 0.0001, 0.001, 0.01, 0.1, 1, 5, 10]\n",
    "r_score = []"
   ]
  },
  {
   "cell_type": "code",
   "execution_count": 27,
   "id": "1b9e5dd3-1408-49e1-abd6-e31393e95c9e",
   "metadata": {},
   "outputs": [],
   "source": [
    "for i in r_value:\n",
    "    w0, w = train_linear_regression_reg(housing_train_zero, y_train, i)\n",
    "    \n",
    "    y_preds_zero = w0 + housing_val_zero.dot(w)\n",
    "    \n",
    "    score = round(rmse(y_val, y_preds_zero), 2)\n",
    "    \n",
    "    r_score.append(score)"
   ]
  },
  {
   "cell_type": "code",
   "execution_count": 28,
   "id": "8ef0fb19-c39e-40e2-aa1b-f89a80913254",
   "metadata": {},
   "outputs": [
    {
     "data": {
      "text/plain": [
       "[0.33, 0.33, 0.33, 0.33, 0.33, 0.33, 0.33, 0.34, 0.34]"
      ]
     },
     "execution_count": 28,
     "metadata": {},
     "output_type": "execute_result"
    }
   ],
   "source": [
    "r_score\n",
    "\n",
    "# Since there are multiple options which gave the smallest 'r value', the smallest being 0 is selected"
   ]
  },
  {
   "cell_type": "markdown",
   "id": "d09579d1-52e3-4f31-b989-4a8b41397f4a",
   "metadata": {},
   "source": [
    "### Question 5"
   ]
  },
  {
   "cell_type": "code",
   "execution_count": 29,
   "id": "d640732a-d163-4286-ae0d-e48281afde54",
   "metadata": {},
   "outputs": [],
   "source": [
    "seed_values = [0, 1, 2, 3, 4, 5, 6, 7, 8, 9]\n",
    "scores_list = []"
   ]
  },
  {
   "cell_type": "code",
   "execution_count": 30,
   "id": "a6297a8d-c538-4d98-ac16-b74d7d268ede",
   "metadata": {},
   "outputs": [],
   "source": [
    "for i in seed_values:\n",
    "    \n",
    "    np.random.seed(i)\n",
    "    \n",
    "    # Splitting the dataset into train, test, split\n",
    "    length = len(new_housing_features)\n",
    "\n",
    "    idx = np.arange(length)\n",
    "\n",
    "    np.random.shuffle(idx)\n",
    "\n",
    "\n",
    "    val = int(length * 0.2)\n",
    "    test = int(length * 0.2)\n",
    "    train = length - val - test\n",
    "    \n",
    "    # Splitting the dataset\n",
    "\n",
    "    new_housing_train = new_housing_features.iloc[idx[:train]]\n",
    "    new_housing_val = new_housing_features.iloc[idx[train:train+val]]\n",
    "    new_housing_test = new_housing_features.iloc[idx[train+val:]]\n",
    "    \n",
    "    # Separating the target variable from the dataset\n",
    "\n",
    "    new_y_train = np.log1p(new_housing_train['median_house_value'].values)\n",
    "    new_y_val = np.log1p(new_housing_val['median_house_value'].values)\n",
    "    new_y_test = np.log1p(new_housing_test['median_house_value'].values)\n",
    "\n",
    "\n",
    "    # Removing the target variable from the dataset\n",
    "\n",
    "    del new_housing_train['median_house_value']\n",
    "    del new_housing_val['median_house_value']\n",
    "    del new_housing_test['median_house_value']\n",
    "    \n",
    "    \n",
    "    # Making a copy of the splitted data\n",
    "\n",
    "    new_housing_train_zero = new_housing_train.copy()\n",
    "    new_housing_val_zero = new_housing_val.copy()\n",
    "    new_housing_test_zero = new_housing_test.copy()\n",
    "    \n",
    "    \n",
    "    # Filling the missing value in 'total_bedroom' column with zero\n",
    "\n",
    "    new_housing_train_zero = new_housing_train_zero.fillna(0).values\n",
    "    new_housing_val_zero = new_housing_val_zero.fillna(0).values\n",
    "    new_housing_test_zero = new_housing_test_zero.fillna(0).values\n",
    "    \n",
    "    \n",
    "    # Training the linear regression model\n",
    "    w0, w = train_linear_regression(new_housing_train_zero, new_y_train)\n",
    "    \n",
    "    # Using the validation dataset to evaluate the model\n",
    "\n",
    "    y_preds_zero = w0 + new_housing_val_zero.dot(w)\n",
    "    \n",
    "    \n",
    "    # Finding the RMSE\n",
    "    score = round(rmse(new_y_val, y_preds_zero), 2)\n",
    "    \n",
    "    scores_list.append(score)"
   ]
  },
  {
   "cell_type": "code",
   "execution_count": 31,
   "id": "4bfd525b-46c8-4ef8-baed-953c6e603ca4",
   "metadata": {},
   "outputs": [
    {
     "data": {
      "text/plain": [
       "[0.34, 0.34, 0.33, 0.34, 0.34, 0.34, 0.35, 0.34, 0.35, 0.34]"
      ]
     },
     "execution_count": 31,
     "metadata": {},
     "output_type": "execute_result"
    }
   ],
   "source": [
    "scores_list"
   ]
  },
  {
   "cell_type": "code",
   "execution_count": 32,
   "id": "e18d276f-1a24-4aae-ae12-3db216d2765a",
   "metadata": {},
   "outputs": [
    {
     "data": {
      "text/plain": [
       "0.005"
      ]
     },
     "execution_count": 32,
     "metadata": {},
     "output_type": "execute_result"
    }
   ],
   "source": [
    "round(np.std(scores_list), 3)\n",
    "\n",
    "# The Standard deviation of the scores is 0.005"
   ]
  },
  {
   "cell_type": "markdown",
   "id": "0f916be6-d89f-410b-899e-55cf347cf785",
   "metadata": {},
   "source": [
    "### Question 6"
   ]
  },
  {
   "cell_type": "code",
   "execution_count": 33,
   "id": "e0480189-094d-40b0-9575-7665d675c02c",
   "metadata": {},
   "outputs": [],
   "source": [
    "np.random.seed(9)"
   ]
  },
  {
   "cell_type": "code",
   "execution_count": 34,
   "id": "c81fd472-ae3f-4245-a632-09ae5260dc9b",
   "metadata": {},
   "outputs": [],
   "source": [
    "# Splitting the dataset into train, test, split\n",
    "length = len(housing_features_1)\n",
    "\n",
    "idx = np.arange(length)\n",
    "\n",
    "np.random.shuffle(idx)\n",
    "\n",
    "\n",
    "val = int(length * 0.2)\n",
    "test = int(length * 0.2)\n",
    "train = length - val - test\n",
    "    \n",
    "# Splitting the dataset\n",
    "\n",
    "housing_train_1 = housing_features_1.iloc[idx[:train]]\n",
    "housing_val_1 = housing_features_1.iloc[idx[train:train+val]]\n",
    "housing_test_1 = housing_features_1.iloc[idx[train+val:]]\n",
    "\n",
    "# Combining the train and validation datasets\n",
    "housing_train_val = pd.concat([housing_train_1, housing_val_1])\n",
    "\n",
    "\n",
    "# Separating the target variable from the dataset\n",
    "new_y_train_val = np.log1p(housing_train_val['median_house_value'].values)\n",
    "new_y_test = np.log1p(housing_test_1['median_house_value'].values)\n",
    "\n",
    "# Removing the target variable from the dataset\n",
    "del housing_train_val['median_house_value']\n",
    "del housing_test_1['median_house_value']\n",
    "    \n",
    "    \n",
    "# Making a copy of the splitted data\n",
    "\n",
    "new_housing_train_val = housing_train_val.copy()\n",
    "new_housing_test_zero = housing_test_1.copy()\n",
    "    \n",
    "    \n",
    "# Filling the missing value in 'total_bedroom' column with zero\n",
    "\n",
    "new_housing_train_val = new_housing_train_val.fillna(0).values\n",
    "new_housing_test_zero = new_housing_test_zero.fillna(0).values"
   ]
  },
  {
   "cell_type": "code",
   "execution_count": 35,
   "id": "a11eb543-fbf9-47ab-8fbc-83f0f2b11630",
   "metadata": {},
   "outputs": [],
   "source": [
    "# Training the linear regression model\n",
    "w0, w = train_linear_regression_reg(new_housing_train_val, new_y_train_val, 0.001)"
   ]
  },
  {
   "cell_type": "code",
   "execution_count": 36,
   "id": "d9b9c05c-639d-4e8e-ae52-676bc99361de",
   "metadata": {},
   "outputs": [],
   "source": [
    "# Using the test dataset to evaluate the model\n",
    "\n",
    "y_preds_zero = w0 + new_housing_test_zero.dot(w)\n",
    "\n",
    "# Finding the RMSE\n",
    "score = round(rmse(new_y_test, y_preds_zero), 2)\n",
    "\n"
   ]
  },
  {
   "cell_type": "code",
   "execution_count": 37,
   "id": "620a262c-a89d-43b1-9062-36dbaaa72ad2",
   "metadata": {},
   "outputs": [
    {
     "data": {
      "text/plain": [
       "0.35"
      ]
     },
     "execution_count": 37,
     "metadata": {},
     "output_type": "execute_result"
    }
   ],
   "source": [
    "score"
   ]
  },
  {
   "cell_type": "code",
   "execution_count": null,
   "id": "3e6f7b11-9598-494d-8011-6c8927d91e36",
   "metadata": {},
   "outputs": [],
   "source": []
  }
 ],
 "metadata": {
  "kernelspec": {
   "display_name": "Python 3 (ipykernel)",
   "language": "python",
   "name": "python3"
  },
  "language_info": {
   "codemirror_mode": {
    "name": "ipython",
    "version": 3
   },
   "file_extension": ".py",
   "mimetype": "text/x-python",
   "name": "python",
   "nbconvert_exporter": "python",
   "pygments_lexer": "ipython3",
   "version": "3.9.7"
  }
 },
 "nbformat": 4,
 "nbformat_minor": 5
}
